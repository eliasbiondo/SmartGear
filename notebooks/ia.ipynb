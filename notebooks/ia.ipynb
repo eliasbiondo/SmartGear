{
  "nbformat": 4,
  "nbformat_minor": 0,
  "metadata": {
    "colab": {
      "provenance": []
    },
    "kernelspec": {
      "name": "python3",
      "display_name": "Python 3"
    },
    "language_info": {
      "name": "python"
    }
  },
  "cells": [
    {
      "cell_type": "markdown",
      "source": [
        "# 1.0 Introdução\n",
        "\n",
        "Este documento tem como objetivo fornecer um guia para a criação de uma solução que utiliza técnicas de aprendizado de máquina para analisar dados de vibração e temperatura em um equipamento industrial. O objetivo da solução é detectar anomalias e prever possíveis falhas no equipamento, permitindo a manutenção preventiva e reduzindo os custos de parada de produção. O projeto inclui a geração de dados de simulação de vibração e temperatura, a criação de recursos relevantes e a construção de modelos de aprendizado de máquina para classificação. A solução tem como objetivo ajudar as empresas a melhorar a eficiência e a confiabilidade de seus equipamentos, minimizando o tempo de inatividade e maximizando a produção."
      ],
      "metadata": {
        "id": "C1c1Q_uRXQcJ"
      }
    },
    {
      "cell_type": "markdown",
      "source": [
        "# 1.1 Gerador de dados\n",
        "\n",
        "Este código tem como objetivo gerar dados sintéticos de vibração e temperatura, criar recursos a partir desses dados e gerar um dataframe com esses recursos.\n",
        "\n",
        "Primeiramente, são definidos dois parâmetros para a geração de dados de vibração: o número de amostras (N_SAMPLES) e o número de eixos de vibração (N_FEATURES). Em seguida, é criada uma lista chamada \"vibration_data\" que armazenará os dados de vibração gerados.\n",
        "\n",
        "Para gerar os dados de vibração, o código utiliza um loop for para gerar valores aleatórios para as coordenadas x, y e z de cada amostra. Além disso, em aproximadamente 5% das amostras, é adicionada uma anomalia na vibração através da multiplicação de cada coordenada por um valor aleatório entre 1,5 e 2,0. Nesses casos, o valor do alvo \"is_failing\" é definido como 1 para indicar que a amostra é anormal. Caso contrário, \"is_failing\" é definido como 0.\n",
        "\n",
        "Em seguida, é criada outra lista chamada \"vibration_magnitude\" que armazena a magnitude da vibração para cada amostra. Isso é feito através do cálculo da raiz quadrada da soma dos quadrados das coordenadas x, y e z.\n",
        "\n",
        "Além disso, é criada uma lista chamada \"temperature_data\" que armazena valores aleatórios de temperatura para cada amostra.\n",
        "\n",
        "Por fim, são criados nove recursos a partir dos dados de vibração e temperatura, e adicionados à lista \"features\". Esses recursos são:\n",
        "\n",
        "Soma dos valores de vibração em três eixos\n",
        "Temperatura\n",
        "Média dos valores de vibração em três eixos\n",
        "Máximo dos valores de vibração em três eixos\n",
        "Diferença entre a maior e a menor vibração em três eixos\n",
        "Vibração no eixo x\n",
        "Vibração no eixo y\n",
        "Vibração no eixo z\n",
        "Atributo alvo \"is_failing\"\n",
        "Por fim, é criado um dataframe com os recursos gerados, com colunas nomeadas de acordo com o nome dos recursos. Além disso, é adicionada uma coluna chamada \"vibration_magnitude\", que contém os valores de magnitude de vibração previamente calculados."
      ],
      "metadata": {
        "id": "U6XuPXiVW4_d"
      }
    },
    {
      "cell_type": "code",
      "execution_count": 23,
      "metadata": {
        "id": "oEP77SOZQKvW"
      },
      "outputs": [],
      "source": [
        "import random\n",
        "import numpy as np\n",
        "import pandas as pd\n",
        "\n",
        "# Parâmetros de geração de dados\n",
        "N_SAMPLES = 10000\n",
        "N_FEATURES = 8 \n",
        "\n",
        "# Gerando dados de vibração\n",
        "vibration_data = []\n",
        "for i in range(N_SAMPLES):\n",
        "    x, y, z = [random.uniform(0, 1) for _ in range(3)]\n",
        "    # Adicionando uma anomalia de 5% à vibração\n",
        "    if random.random() <= 0.05:\n",
        "        x *= random.uniform(1.5, 2.0)\n",
        "        y *= random.uniform(1.5, 2.0)\n",
        "        z *= random.uniform(1.5, 2.0)\n",
        "        is_failing = 1  # Definindo o valor do alvo como 1 para dados anormais\n",
        "    else:\n",
        "        is_failing = 0\n",
        "    vibration_data.append([x, y, z, is_failing])\n",
        "\n",
        "# Calculando a magnitude da vibração\n",
        "vibration_magnitude = []\n",
        "for i in range(N_SAMPLES):\n",
        "    x, y, z, is_failing = vibration_data[i]\n",
        "    magnitude = np.sqrt(x**2 + y**2 + z**2)\n",
        "    vibration_magnitude.append(magnitude)\n",
        "\n",
        "# Gerando dados de temperatura\n",
        "temperature_data = [random.uniform(0, 90) for _ in range(N_SAMPLES)]\n",
        "\n",
        "# Criando recursos\n",
        "features = []\n",
        "for i in range(N_SAMPLES):\n",
        "    # Recurso 1: soma dos valores de vibração em três eixos\n",
        "    feature_1 = np.sum(vibration_data[i][:3])\n",
        "\n",
        "    # Recurso 2: temperatura\n",
        "    feature_2 = temperature_data[i]\n",
        "\n",
        "    # Recurso 3: média dos valores de vibração em três eixos\n",
        "    feature_3 = np.mean(vibration_data[i][:3])\n",
        "\n",
        "    # Recurso 4: máximo dos valores de vibração em três eixos\n",
        "    feature_4 = np.max(vibration_data[i][:3])\n",
        "\n",
        "    # Recurso 5: diferença entre a maior e a menor vibração em três eixos\n",
        "    feature_5 = np.max(vibration_data[i][:3]) - np.min(vibration_data[i][:3])\n",
        "\n",
        "    # Recurso 6: vibração em x\n",
        "    feature_6 = vibration_data[i][0]\n",
        "\n",
        "    # Recurso 7: vibração em y\n",
        "    feature_7 = vibration_data[i][1]\n",
        "\n",
        "    # Recurso 8: vibração em z\n",
        "    feature_8 = vibration_data[i][2]\n",
        "\n",
        "    # Recurso 9: atributo alvo\n",
        "    feature_9 = vibration_data[i][3]\n",
        "\n",
        "    # Adicionando recursos à lista de recursos\n",
        "    features.append(\n",
        "        [\n",
        "            feature_1,\n",
        "            feature_2,\n",
        "            feature_3,\n",
        "            feature_4,\n",
        "            feature_5,\n",
        "            feature_6,\n",
        "            feature_7,\n",
        "            feature_8,\n",
        "            feature_9,\n",
        "        ]\n",
        "    )\n",
        "\n",
        "# Criando um dataframe com os recursos gerados e nomeando as colunas\n",
        "df = pd.DataFrame(\n",
        "    features,\n",
        "    columns=[\n",
        "        \"vibration_sum\",\n",
        "        \"temperature\",\n",
        "        \"vibration_mean\",\n",
        "        \"vibration_max\",\n",
        "        \"vibration_range\",\n",
        "        \"vibration_x\",\n",
        "        \"vibration_y\",\n",
        "        \"vibration_z\",\n",
        "        \"is_failing\",\n",
        "    ],\n",
        ")\n",
        "\n",
        "# Adicionando a coluna da magnitude da vibração ao dataframe\n",
        "df[\"vibration_magnitude\"] = vibration_magnitude\n"
      ]
    },
    {
      "cell_type": "markdown",
      "source": [
        "#1.2 Feature engineering\n",
        "\n",
        "O trecho de código abaixo tem como objetivo realizar a normalização dos recursos de um conjunto de dados e criar novas features com base em médias móveis e desvios padrão móveis. Inicialmente, é separado o atributo alvo dos recursos do conjunto de dados e os recursos são normalizados utilizando o StandardScaler do sklearn.preprocessing. Em seguida, é criado um novo DataFrame com os recursos normalizados e adicionado a coluna do atributo alvo.\n",
        "\n",
        "A partir daí, é feito um loop em N_FEATURES para criar as novas features. São criadas as features de média móvel de 10 pontos para a temperatura e de média móvel de 3 pontos para a magnitude da vibração. Além disso, são criadas as features de média móvel de 5 pontos e desvio padrão móvel de 5 pontos para as vibrações em x, y e z. Por fim, são criadas as features de diferença entre a média móvel de 5 pontos da vibração em x, y e z e a vibração em x, y e z no ponto atual."
      ],
      "metadata": {
        "id": "dmUWelQSXnvz"
      }
    },
    {
      "cell_type": "code",
      "source": [
        "from sklearn.preprocessing import StandardScaler\n",
        "\n",
        "# Separando o atributo alvo dos recursos\n",
        "X = df.drop('is_failing', axis=1)\n",
        "y = df['is_failing']\n",
        "\n",
        "# Normalizando os recursos\n",
        "scaler = StandardScaler()\n",
        "X_scaled = scaler.fit_transform(X)\n",
        "\n",
        "# Criando um novo DataFrame com os recursos normalizados\n",
        "df_scaled = pd.DataFrame(\n",
        "    data=X_scaled, \n",
        "    columns=X.columns\n",
        ")\n",
        "\n",
        "# Adicionando a coluna do atributo alvo ao DataFrame normalizado\n",
        "df_scaled['is_failing'] = y\n",
        "\n",
        "for i in range(N_FEATURES):\n",
        "\n",
        "  # Criando uma feature com a média móvel dos últimos 10 valores da temperatura\n",
        "  df_scaled[\"temperature_moving_avg\"] = df_scaled[\"temperature\"].rolling(window=10).mean().fillna(method='bfill')\n",
        "\n",
        "  # Criando uma feature com a média móvel dos últimos 3 valores da magnitude da vibração\n",
        "  df_scaled[\"vibration_magnitude_moving_avg\"] = df_scaled[\"vibration_magnitude\"].rolling(window=3).mean().fillna(method='bfill')\n",
        "\n",
        "  # Média móvel de 5 pontos para as features de vibração em x, y e z\n",
        "  df['vibration_x_rolling_mean'] = df['vibration_x'].rolling(window=5).mean()\n",
        "  df['vibration_y_rolling_mean'] = df['vibration_y'].rolling(window=5).mean()\n",
        "  df['vibration_z_rolling_mean'] = df['vibration_z'].rolling(window=5).mean()\n",
        "\n",
        "  # Desvio padrão móvel de 5 pontos para as features de vibração em x, y e z\n",
        "  df['vibration_x_rolling_std'] = df['vibration_x'].rolling(window=5).std()\n",
        "  df['vibration_y_rolling_std'] = df['vibration_y'].rolling(window=5).std()\n",
        "  df['vibration_z_rolling_std'] = df['vibration_z'].rolling(window=5).std()\n",
        "\n",
        "  # Diferença entre a média móvel de 5 pontos da vibração em x e a vibração em x no ponto atual\n",
        "  df['vibration_x_mean_diff'] = df['vibration_x_rolling_mean'] - df['vibration_x']\n",
        "\n",
        "  # Diferença entre a média móvel de 5 pontos da vibração em y e a vibração em y no ponto atual\n",
        "  df['vibration_y_mean_diff'] = df['vibration_y_rolling_mean'] - df['vibration_y']\n",
        "\n",
        "  # Diferença entre a média móvel de 5 pontos da vibração em z e a vibração em z no ponto atual\n",
        "  df['vibration_z_mean_diff'] = df['vibration_z_rolling_mean'] - df['vibration_z']\n"
      ],
      "metadata": {
        "id": "p6smJG-fXqiB"
      },
      "execution_count": 25,
      "outputs": []
    },
    {
      "cell_type": "markdown",
      "source": [
        "#1.3 Treinamento\n",
        "\n",
        "Essa seção apresenta o código responsável por treinar o modelo de classificação utilizando o algoritmo Random Forest, utilizando os dados previamente divididos em conjunto de treinamento e teste na seção anterior.\n",
        "\n",
        "Inicialmente, o código realiza o processo de divisão dos dados em conjunto de treinamento e teste utilizando a função train_test_split da biblioteca scikit-learn. A variável df_scaled corresponde aos dados de entrada normalizados, e é divida em quatro variáveis: X_train, X_test, y_train e y_test. As duas primeiras contêm os atributos de entrada (sem a coluna 'is_failing') dos conjuntos de treinamento e teste, respectivamente, enquanto as duas últimas contêm as classes correspondentes ('is_failing').\n",
        "\n",
        "Em seguida, o código utiliza a classe RandomForestClassifier do scikit-learn para criar um modelo de classificação, utilizando 100 árvores de decisão (n_estimators=100) e um estado aleatório fixo (random_state=42). O método fit é utilizado para treinar o modelo utilizando os dados de treinamento.\n",
        "\n",
        "Por fim, o modelo treinado é utilizado para fazer previsões (y_pred) nos dados de teste (X_test), utilizando o método predict da classe RandomForestClassifier. O resultado dessas previsões será utilizado para avaliar o desempenho do modelo na seção seguinte (#1.4)."
      ],
      "metadata": {
        "id": "GByPAJIbacYv"
      }
    },
    {
      "cell_type": "code",
      "source": [
        "from sklearn.ensemble import RandomForestClassifier\n",
        "from sklearn.model_selection import train_test_split\n",
        "from sklearn.metrics import confusion_matrix\n",
        "import matplotlib.pyplot as plt\n",
        "import seaborn as sns\n",
        "import numpy as np\n",
        "\n",
        "# Split do conjunto de dados em treinamento e teste\n",
        "X_train, X_test, y_train, y_test = train_test_split(df_scaled.drop('is_failing', axis=1), df_scaled['is_failing'], test_size=0.2, random_state=42)\n",
        "\n",
        "# Treinamento do modelo\n",
        "clf = RandomForestClassifier(n_estimators=100, random_state=42)\n",
        "clf.fit(X_train, y_train)\n",
        "\n",
        "# Previsões no conjunto de teste\n",
        "y_pred = clf.predict(X_test)"
      ],
      "metadata": {
        "id": "GHw2BirBaeIy"
      },
      "execution_count": 31,
      "outputs": []
    },
    {
      "cell_type": "markdown",
      "source": [
        "#1.4 Avaliação"
      ],
      "metadata": {
        "id": "gynWlPiRbkD3"
      }
    },
    {
      "cell_type": "markdown",
      "source": [
        "Essa seção apresenta a avaliação do modelo treinado na seção anterior, utilizando as métricas de acurácia, precisão, erro quadrático e recall, bem como a construção da matriz de confusão para avaliar o desempenho do modelo na classificação das amostras.\n",
        "\n",
        "A matriz de confusão é criada utilizando a função confusion_matrix do módulo sklearn.metrics. A matriz é exibida em um gráfico com a função heatmap do módulo seaborn, onde cada célula da matriz é preenchida com uma cor proporcional à sua frequência relativa.\n",
        "\n",
        "Em seguida, as métricas de avaliação do modelo são calculadas utilizando as funções correspondentes do módulo sklearn.metrics. Para imprimir essas métricas, são utilizadas as funções print e f-string para formatar a saída e fixar o número de casas decimais em 2.\n",
        "\n",
        "Por fim, a imagem da matriz de confusão e as métricas de avaliação são exibidas."
      ],
      "metadata": {
        "id": "KhbpAP0Td6nn"
      }
    },
    {
      "cell_type": "code",
      "source": [
        "from sklearn.metrics import confusion_matrix, accuracy_score, precision_score, mean_squared_error, recall_score\n",
        "\n",
        "# Criação da matriz de confusão\n",
        "cm = confusion_matrix(y_test, y_pred)\n",
        "\n",
        "# Criação do gráfico da matriz de confusão\n",
        "fig, ax = plt.subplots(figsize=(10, 8), dpi=100)\n",
        "sns.heatmap(cm, annot=True, cmap='Blues', fmt='.2f', ax=ax)\n",
        "\n",
        "# Configurações do gráfico\n",
        "ax.set_xlabel('Predicted Label')\n",
        "ax.set_ylabel('True Label')\n",
        "ax.set_title('Confusion Matrix')\n",
        "\n",
        "\n",
        "# Cálculo das métricas\n",
        "acc = accuracy_score(y_test, y_pred)\n",
        "prec = precision_score(y_test, y_pred)\n",
        "mse = mean_squared_error(y_test, y_pred)\n",
        "rec = recall_score(y_test, y_pred)\n",
        "\n",
        "# Impressão das métricas\n",
        "print(f\"Acurácia: {acc*100:.2f}%\")\n",
        "print(f\"Precision: {prec*100:.2f}%\")\n",
        "print(f\"Erro Quadrático: {mse*100:.2f}%\")\n",
        "print(f\"Recall: {rec*100:.2f}%\")\n",
        "\n",
        "plt.show()"
      ],
      "metadata": {
        "colab": {
          "base_uri": "https://localhost:8080/",
          "height": 775
        },
        "id": "4gYP9eLcbrSF",
        "outputId": "1e8eda99-fb22-4605-9e10-f545a498998e"
      },
      "execution_count": 45,
      "outputs": [
        {
          "output_type": "stream",
          "name": "stdout",
          "text": [
            "Acurácia: 99.30%\n",
            "Precision: 100.00%\n",
            "Erro Quadrático: 0.70%\n",
            "Recall: 84.44%\n"
          ]
        },
        {
          "output_type": "display_data",
          "data": {
            "text/plain": [
              "<Figure size 1000x800 with 2 Axes>"
            ],
            "image/png": "[encoded data removed]"
          },
          "metadata": {
            "needs_background": "light"
          }
        }
      ]
    }
  ]
}